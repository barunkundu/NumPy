{
 "cells": [
  {
   "cell_type": "markdown",
   "id": "6cf683a0",
   "metadata": {},
   "source": [
    "Handle missing value and Spelcial case"
   ]
  },
  {
   "cell_type": "code",
   "execution_count": 1,
   "id": "c181715c",
   "metadata": {},
   "outputs": [],
   "source": [
    "import numpy as np"
   ]
  },
  {
   "cell_type": "code",
   "execution_count": 9,
   "id": "cde15fc5",
   "metadata": {},
   "outputs": [],
   "source": [
    "array = np.array([1,2, np.nan ,4, np.nan])"
   ]
  },
  {
   "cell_type": "code",
   "execution_count": 11,
   "id": "cfa35aa5",
   "metadata": {},
   "outputs": [
    {
     "name": "stdout",
     "output_type": "stream",
     "text": [
      "[False False  True False  True]\n"
     ]
    }
   ],
   "source": [
    "print(np.isnan(array))\n"
   ]
  },
  {
   "cell_type": "markdown",
   "id": "26ef0cce",
   "metadata": {},
   "source": [
    "replace this missing value by defult value"
   ]
  },
  {
   "cell_type": "code",
   "execution_count": 12,
   "id": "709371e1",
   "metadata": {},
   "outputs": [
    {
     "name": "stdout",
     "output_type": "stream",
     "text": [
      "[1. 2. 0. 4. 0.]\n"
     ]
    }
   ],
   "source": [
    "clean_arr = np.nan_to_num(array)\n",
    "print(clean_arr)"
   ]
  },
  {
   "cell_type": "markdown",
   "id": "ab63e7ee",
   "metadata": {},
   "source": [
    "use specific value"
   ]
  },
  {
   "cell_type": "code",
   "execution_count": 23,
   "id": "b829aab8",
   "metadata": {},
   "outputs": [],
   "source": [
    "array1 = np.array([1,2, np.nan ,4, np.nan])"
   ]
  },
  {
   "cell_type": "code",
   "execution_count": 24,
   "id": "00a67243",
   "metadata": {},
   "outputs": [
    {
     "name": "stdout",
     "output_type": "stream",
     "text": [
      "[1. 2. 5. 4. 5.]\n"
     ]
    }
   ],
   "source": [
    "clean = np.nan_to_num(array1, nan=5)\n",
    "print(clean)"
   ]
  },
  {
   "cell_type": "markdown",
   "id": "2faee5c6",
   "metadata": {},
   "source": [
    "For infinite"
   ]
  },
  {
   "cell_type": "code",
   "execution_count": 27,
   "id": "c088c53e",
   "metadata": {},
   "outputs": [],
   "source": [
    "array2 = np.array([1,2, np.inf ,4, -np.inf])"
   ]
  },
  {
   "cell_type": "code",
   "execution_count": 28,
   "id": "8c7ce21f",
   "metadata": {},
   "outputs": [
    {
     "name": "stdout",
     "output_type": "stream",
     "text": [
      "[  1.   2. 222.   4. 333.]\n"
     ]
    }
   ],
   "source": [
    "clean_inf = np.nan_to_num(array2, posinf=222, neginf=333)\n",
    "print(clean_inf)"
   ]
  }
 ],
 "metadata": {
  "kernelspec": {
   "display_name": "Python 3",
   "language": "python",
   "name": "python3"
  },
  "language_info": {
   "codemirror_mode": {
    "name": "ipython",
    "version": 3
   },
   "file_extension": ".py",
   "mimetype": "text/x-python",
   "name": "python",
   "nbconvert_exporter": "python",
   "pygments_lexer": "ipython3",
   "version": "3.13.2"
  }
 },
 "nbformat": 4,
 "nbformat_minor": 5
}
