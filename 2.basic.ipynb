{
 "cells": [
  {
   "cell_type": "markdown",
   "id": "ac67d9cb",
   "metadata": {},
   "source": [
    "Array Property\n"
   ]
  },
  {
   "cell_type": "markdown",
   "id": "39bb134c",
   "metadata": {},
   "source": [
    "Check \n",
    "i) .Shape\n",
    "ii) .Size\n",
    "iii) .type\n",
    "iv).ndim "
   ]
  },
  {
   "cell_type": "code",
   "execution_count": 2,
   "id": "b5e368e3",
   "metadata": {},
   "outputs": [],
   "source": [
    "import numpy as np"
   ]
  },
  {
   "cell_type": "code",
   "execution_count": 8,
   "id": "34c3d2ce",
   "metadata": {},
   "outputs": [],
   "source": [
    "array_1 = np.array([1,2,3,4])\n",
    "array_2 = np.array([[1,2,3,4], [5,6,7,8]])\n",
    "array_3 = np.array([[[1,2,3], [1,2,3]], [[9,8,7],[5,6,7]]])"
   ]
  },
  {
   "cell_type": "markdown",
   "id": "39160921",
   "metadata": {},
   "source": [
    "Shape"
   ]
  },
  {
   "cell_type": "code",
   "execution_count": 12,
   "id": "6c9ddcc6",
   "metadata": {},
   "outputs": [
    {
     "name": "stdout",
     "output_type": "stream",
     "text": [
      "(2, 4)\n"
     ]
    }
   ],
   "source": [
    "print(array_2.shape)"
   ]
  },
  {
   "cell_type": "markdown",
   "id": "99d92bb8",
   "metadata": {},
   "source": [
    "Size"
   ]
  },
  {
   "cell_type": "code",
   "execution_count": 14,
   "id": "b7671b03",
   "metadata": {},
   "outputs": [
    {
     "name": "stdout",
     "output_type": "stream",
     "text": [
      "8\n"
     ]
    }
   ],
   "source": [
    "print(array_2.size)"
   ]
  },
  {
   "cell_type": "markdown",
   "id": "7d34f67c",
   "metadata": {},
   "source": [
    "Number of dimension"
   ]
  },
  {
   "cell_type": "code",
   "execution_count": 15,
   "id": "067c69e5",
   "metadata": {},
   "outputs": [
    {
     "name": "stdout",
     "output_type": "stream",
     "text": [
      "3\n"
     ]
    }
   ],
   "source": [
    "print(array_3.ndim)"
   ]
  },
  {
   "cell_type": "markdown",
   "id": "af2438ac",
   "metadata": {},
   "source": [
    "Type"
   ]
  },
  {
   "cell_type": "code",
   "execution_count": 16,
   "id": "16bcb4ac",
   "metadata": {},
   "outputs": [
    {
     "name": "stdout",
     "output_type": "stream",
     "text": [
      "int64\n"
     ]
    }
   ],
   "source": [
    "print(array_3.dtype)"
   ]
  },
  {
   "cell_type": "markdown",
   "id": "8a3e61ba",
   "metadata": {},
   "source": [
    "Change Data Type"
   ]
  },
  {
   "cell_type": "code",
   "execution_count": 18,
   "id": "978b202f",
   "metadata": {},
   "outputs": [
    {
     "name": "stdout",
     "output_type": "stream",
     "text": [
      "float64\n"
     ]
    }
   ],
   "source": [
    "barun = np.array([1.3, 3.5, 88])\n",
    "print(barun.dtype)"
   ]
  },
  {
   "cell_type": "code",
   "execution_count": 20,
   "id": "fbc14d6d",
   "metadata": {},
   "outputs": [
    {
     "name": "stdout",
     "output_type": "stream",
     "text": [
      "[ 1  3 88]\n",
      "int64\n"
     ]
    }
   ],
   "source": [
    "kundu = barun.astype(int)\n",
    "print(kundu)\n",
    "print(kundu.dtype)"
   ]
  }
 ],
 "metadata": {
  "kernelspec": {
   "display_name": "Python 3",
   "language": "python",
   "name": "python3"
  },
  "language_info": {
   "codemirror_mode": {
    "name": "ipython",
    "version": 3
   },
   "file_extension": ".py",
   "mimetype": "text/x-python",
   "name": "python",
   "nbconvert_exporter": "python",
   "pygments_lexer": "ipython3",
   "version": "3.13.2"
  }
 },
 "nbformat": 4,
 "nbformat_minor": 5
}
