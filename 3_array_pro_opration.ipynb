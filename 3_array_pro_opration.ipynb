{
 "cells": [
  {
   "cell_type": "markdown",
   "id": "a9c2bc4f",
   "metadata": {},
   "source": [
    "Array Properties and operations"
   ]
  },
  {
   "cell_type": "markdown",
   "id": "8e541303",
   "metadata": {},
   "source": [
    "Operations"
   ]
  },
  {
   "cell_type": "code",
   "execution_count": 1,
   "id": "6c006d7a",
   "metadata": {},
   "outputs": [],
   "source": [
    "import numpy as np"
   ]
  },
  {
   "cell_type": "code",
   "execution_count": 8,
   "id": "9bfa4c1a",
   "metadata": {},
   "outputs": [],
   "source": [
    "barun = np.array([1, 3, 8])"
   ]
  },
  {
   "cell_type": "code",
   "execution_count": null,
   "id": "dd81090e",
   "metadata": {},
   "outputs": [],
   "source": [
    "print(barun + 5)\n",
    "print(barun - 5)\n",
    "print(barun * 5)\n",
    "print(barun / 5)\n",
    "print(barun ** 5)\n",
    "print(barun // 5)\n",
    "print(barun % 5)"
   ]
  },
  {
   "cell_type": "markdown",
   "id": "56e8b2f6",
   "metadata": {},
   "source": [
    "Aggregation function "
   ]
  },
  {
   "cell_type": "code",
   "execution_count": 13,
   "id": "a08d82ea",
   "metadata": {},
   "outputs": [
    {
     "name": "stdout",
     "output_type": "stream",
     "text": [
      "12\n",
      "4.0\n",
      "1\n",
      "8\n",
      "2.943920288775949\n",
      "8.666666666666666\n"
     ]
    }
   ],
   "source": [
    "print(np.sum(barun))\n",
    "print(np.mean(barun))\n",
    "print(np.min(barun))\n",
    "print(np.max(barun))\n",
    "print(np.std(barun))\n",
    "print(np.var(barun))"
   ]
  },
  {
   "cell_type": "code",
   "execution_count": null,
   "id": "0bc1609d",
   "metadata": {},
   "outputs": [],
   "source": []
  }
 ],
 "metadata": {
  "kernelspec": {
   "display_name": "Python 3",
   "language": "python",
   "name": "python3"
  },
  "language_info": {
   "codemirror_mode": {
    "name": "ipython",
    "version": 3
   },
   "file_extension": ".py",
   "mimetype": "text/x-python",
   "name": "python",
   "nbconvert_exporter": "python",
   "pygments_lexer": "ipython3",
   "version": "3.13.2"
  }
 },
 "nbformat": 4,
 "nbformat_minor": 5
}
