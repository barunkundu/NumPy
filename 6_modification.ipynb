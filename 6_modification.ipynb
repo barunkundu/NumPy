{
 "cells": [
  {
   "cell_type": "markdown",
   "id": "888fef89",
   "metadata": {},
   "source": [
    "Array modification"
   ]
  },
  {
   "cell_type": "code",
   "execution_count": 2,
   "id": "66bb9544",
   "metadata": {},
   "outputs": [],
   "source": [
    "import numpy as np"
   ]
  },
  {
   "cell_type": "code",
   "execution_count": 3,
   "id": "a0ad5657",
   "metadata": {},
   "outputs": [],
   "source": [
    "array_1 = np.array([1,2,3,4])\n",
    "array_2 = np.array([[1,2,3,4], [5,6,7,8]])"
   ]
  },
  {
   "cell_type": "markdown",
   "id": "6c68070d",
   "metadata": {},
   "source": [
    "1D"
   ]
  },
  {
   "cell_type": "code",
   "execution_count": 4,
   "id": "3da021b9",
   "metadata": {},
   "outputs": [
    {
     "name": "stdout",
     "output_type": "stream",
     "text": [
      "[  1   2 200   3   4]\n"
     ]
    }
   ],
   "source": [
    "m_array_1 = np.insert(array_1, 2, 200)\n",
    "print(m_array_1)"
   ]
  },
  {
   "cell_type": "markdown",
   "id": "6ee8b4fc",
   "metadata": {},
   "source": [
    "2D"
   ]
  },
  {
   "cell_type": "code",
   "execution_count": 5,
   "id": "12286799",
   "metadata": {},
   "outputs": [
    {
     "name": "stdout",
     "output_type": "stream",
     "text": [
      "[[1 2 7 8]\n",
      " [1 2 3 4]\n",
      " [5 6 7 8]]\n"
     ]
    }
   ],
   "source": [
    "m_array_2 = np.insert(array_2, 0, [1,2, 7, 8], axis=0) # row wise\n",
    "print(m_array_2)"
   ]
  },
  {
   "cell_type": "code",
   "execution_count": 6,
   "id": "33425893",
   "metadata": {},
   "outputs": [
    {
     "name": "stdout",
     "output_type": "stream",
     "text": [
      "[[1 1 2 3 4]\n",
      " [2 5 6 7 8]]\n"
     ]
    }
   ],
   "source": [
    "m_array_2 = np.insert(array_2, 0, [1,2], axis=1) # column wise\n",
    "print(m_array_2)"
   ]
  },
  {
   "cell_type": "code",
   "execution_count": 7,
   "id": "4955b7b0",
   "metadata": {},
   "outputs": [
    {
     "name": "stdout",
     "output_type": "stream",
     "text": [
      "[1 2 1 2 3 4 5 6 7 8]\n"
     ]
    }
   ],
   "source": [
    "m_array_2 = np.insert(array_2, 0, [1,2], axis=None)\n",
    "print(m_array_2)"
   ]
  },
  {
   "cell_type": "markdown",
   "id": "fd80bdbf",
   "metadata": {},
   "source": [
    "Append"
   ]
  },
  {
   "cell_type": "code",
   "execution_count": 8,
   "id": "102929d4",
   "metadata": {},
   "outputs": [
    {
     "name": "stdout",
     "output_type": "stream",
     "text": [
      "[1 2 3 4 5 6 7 8 1 1 1]\n"
     ]
    }
   ],
   "source": [
    "array_3 = np.append(array_2, [1,1,1])\n",
    "print(array_3)"
   ]
  },
  {
   "cell_type": "markdown",
   "id": "5aa6ca73",
   "metadata": {},
   "source": [
    "Concatinate"
   ]
  },
  {
   "cell_type": "code",
   "execution_count": 9,
   "id": "d86a142e",
   "metadata": {},
   "outputs": [],
   "source": [
    "arr1 = np.array([1,2,3,4])\n",
    "arr2 = np.array([4,3,2,1])"
   ]
  },
  {
   "cell_type": "code",
   "execution_count": 10,
   "id": "10551c0a",
   "metadata": {},
   "outputs": [
    {
     "name": "stdout",
     "output_type": "stream",
     "text": [
      "[1 2 3 4 4 3 2 1]\n"
     ]
    }
   ],
   "source": [
    "carr3 = np.concatenate((arr1, arr2))\n",
    "carr4 = np.concatenate((arr1, arr2))\n",
    "print(carr4)"
   ]
  },
  {
   "cell_type": "markdown",
   "id": "257d99c3",
   "metadata": {},
   "source": [
    "2D"
   ]
  },
  {
   "cell_type": "code",
   "execution_count": 11,
   "id": "9b99f9b6",
   "metadata": {},
   "outputs": [],
   "source": [
    "array_3 = np.array([[4,3,2,1], [8,7,6,5]])"
   ]
  },
  {
   "cell_type": "code",
   "execution_count": 12,
   "id": "73fc596a",
   "metadata": {},
   "outputs": [
    {
     "name": "stdout",
     "output_type": "stream",
     "text": [
      "[[1 2 3 4 4 3 2 1]\n",
      " [5 6 7 8 8 7 6 5]]\n"
     ]
    }
   ],
   "source": [
    "carr_5 = np.concatenate((array_2, array_3), axis=1)\n",
    "print(carr_5)"
   ]
  },
  {
   "cell_type": "markdown",
   "id": "312a599e",
   "metadata": {},
   "source": [
    "Stacking"
   ]
  },
  {
   "cell_type": "code",
   "execution_count": 19,
   "id": "2208adab",
   "metadata": {},
   "outputs": [
    {
     "name": "stdout",
     "output_type": "stream",
     "text": [
      "[[1 2 3 4]\n",
      " [5 6 7 8]\n",
      " [4 3 2 1]\n",
      " [8 7 6 5]]\n",
      "[[1 2 3 4 4 3 2 1]\n",
      " [5 6 7 8 8 7 6 5]]\n"
     ]
    }
   ],
   "source": [
    "new_array_v = np.vstack((array_2, array_3))\n",
    "new_array_h = np.hstack((array_2,array_3))\n",
    "print(new_array_v)\n",
    "print(new_array_h)"
   ]
  },
  {
   "cell_type": "markdown",
   "id": "9116ba0d",
   "metadata": {},
   "source": [
    "Splitting"
   ]
  },
  {
   "cell_type": "code",
   "execution_count": 25,
   "id": "c2e4757e",
   "metadata": {},
   "outputs": [
    {
     "name": "stdout",
     "output_type": "stream",
     "text": [
      "[array([1, 2]), array([3, 4])]\n"
     ]
    }
   ],
   "source": [
    "s_new_a = np.split(array_1, 2)\n",
    "print(s_new_a)"
   ]
  },
  {
   "cell_type": "code",
   "execution_count": 29,
   "id": "f88dcd98",
   "metadata": {},
   "outputs": [
    {
     "name": "stdout",
     "output_type": "stream",
     "text": [
      "[array([[1, 2, 3, 4]]), array([[5, 6, 7, 8]])]\n"
     ]
    }
   ],
   "source": [
    "s_new_a_v = np.vsplit(array_2, 2)\n",
    "print(s_new_a_v)"
   ]
  },
  {
   "cell_type": "code",
   "execution_count": 31,
   "id": "cc23cfe3",
   "metadata": {},
   "outputs": [
    {
     "name": "stdout",
     "output_type": "stream",
     "text": [
      "[array([[1, 2, 3, 4],\n",
      "       [5, 6, 7, 8]])]\n"
     ]
    }
   ],
   "source": [
    "s_new_a_h = np.hsplit(array_2, 1)\n",
    "print(s_new_a_h)"
   ]
  }
 ],
 "metadata": {
  "kernelspec": {
   "display_name": "Python 3",
   "language": "python",
   "name": "python3"
  },
  "language_info": {
   "codemirror_mode": {
    "name": "ipython",
    "version": 3
   },
   "file_extension": ".py",
   "mimetype": "text/x-python",
   "name": "python",
   "nbconvert_exporter": "python",
   "pygments_lexer": "ipython3",
   "version": "3.13.2"
  }
 },
 "nbformat": 4,
 "nbformat_minor": 5
}
