{
 "cells": [
  {
   "cell_type": "markdown",
   "id": "786fa8cb",
   "metadata": {},
   "source": [
    "Indexing"
   ]
  },
  {
   "cell_type": "code",
   "execution_count": 1,
   "id": "668f9426",
   "metadata": {},
   "outputs": [],
   "source": [
    "import numpy as np"
   ]
  },
  {
   "cell_type": "code",
   "execution_count": 5,
   "id": "6352a9c8",
   "metadata": {},
   "outputs": [],
   "source": [
    "arr_1D = np.array([1,2,3,4,5,6,7,8,9])\n",
    "arr_2D = np.array([[1,2,3],[4,5,6]])\n",
    "arr_3D = np.array([[[1,2,3],[4,5,6]], [[6,5,4],[3,2,1]]])"
   ]
  },
  {
   "cell_type": "markdown",
   "id": "ec027c24",
   "metadata": {},
   "source": [
    "Access"
   ]
  },
  {
   "cell_type": "code",
   "execution_count": 8,
   "id": "3f3f62e0",
   "metadata": {},
   "outputs": [
    {
     "name": "stdout",
     "output_type": "stream",
     "text": [
      "4\n",
      "3\n"
     ]
    }
   ],
   "source": [
    "print(arr_1D[3])\n",
    "\n",
    "print(arr_2D[0,2])"
   ]
  },
  {
   "cell_type": "markdown",
   "id": "8383abc6",
   "metadata": {},
   "source": [
    "Slicing - array[start:end:step]"
   ]
  },
  {
   "cell_type": "code",
   "execution_count": 10,
   "id": "bffe7fb7",
   "metadata": {},
   "outputs": [
    {
     "name": "stdout",
     "output_type": "stream",
     "text": [
      "[1 2 3 4 5 6 7 8 9]\n",
      "[1 2 3 4 5 6 7 8 9]\n",
      "[2 3 4 5 6 7 8 9]\n",
      "[1 2 3 4]\n",
      "[1 3 5 7 9]\n",
      "[9 8 7 6 5 4 3 2 1]\n"
     ]
    }
   ],
   "source": [
    "print(arr_1D[:])\n",
    "print(arr_1D[::])\n",
    "print(arr_1D[1::])\n",
    "print(arr_1D[:4:])\n",
    "print(arr_1D[::2])\n",
    "print(arr_1D[::-1])"
   ]
  },
  {
   "cell_type": "markdown",
   "id": "9f64bb41",
   "metadata": {},
   "source": [
    "Fancy Indexing"
   ]
  },
  {
   "cell_type": "code",
   "execution_count": 16,
   "id": "86fd25d2",
   "metadata": {},
   "outputs": [
    {
     "name": "stdout",
     "output_type": "stream",
     "text": [
      "[1 4 3 6]\n"
     ]
    }
   ],
   "source": [
    "print(arr_1D[[0,3,2,5]])"
   ]
  },
  {
   "cell_type": "markdown",
   "id": "c61564f1",
   "metadata": {},
   "source": [
    "Boolean mas"
   ]
  },
  {
   "cell_type": "code",
   "execution_count": 12,
   "id": "ae5c336a",
   "metadata": {},
   "outputs": [
    {
     "name": "stdout",
     "output_type": "stream",
     "text": [
      "[1 2 3 4]\n"
     ]
    }
   ],
   "source": [
    "print(arr_1D[arr_1D < 5])"
   ]
  },
  {
   "cell_type": "markdown",
   "id": "85c09ba9",
   "metadata": {},
   "source": [
    "Filtering"
   ]
  },
  {
   "cell_type": "code",
   "execution_count": null,
   "id": "ef9a0665",
   "metadata": {},
   "outputs": [],
   "source": []
  }
 ],
 "metadata": {
  "kernelspec": {
   "display_name": "Python 3",
   "language": "python",
   "name": "python3"
  },
  "language_info": {
   "codemirror_mode": {
    "name": "ipython",
    "version": 3
   },
   "file_extension": ".py",
   "mimetype": "text/x-python",
   "name": "python",
   "nbconvert_exporter": "python",
   "pygments_lexer": "ipython3",
   "version": "3.13.2"
  }
 },
 "nbformat": 4,
 "nbformat_minor": 5
}
