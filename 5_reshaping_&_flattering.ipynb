{
 "cells": [
  {
   "cell_type": "markdown",
   "id": "34e64d31",
   "metadata": {},
   "source": [
    "Re-shaping"
   ]
  },
  {
   "cell_type": "code",
   "execution_count": 1,
   "id": "a57b1aaf",
   "metadata": {},
   "outputs": [],
   "source": [
    "import numpy as np"
   ]
  },
  {
   "cell_type": "code",
   "execution_count": 2,
   "id": "63d5d63d",
   "metadata": {},
   "outputs": [],
   "source": [
    "arr_1D = np.array([1,2,3,4,5,6,7,8,9])"
   ]
  },
  {
   "cell_type": "code",
   "execution_count": 4,
   "id": "b0fbec4e",
   "metadata": {},
   "outputs": [
    {
     "name": "stdout",
     "output_type": "stream",
     "text": [
      "[[1 2 3]\n",
      " [4 5 6]\n",
      " [7 8 9]]\n"
     ]
    }
   ],
   "source": [
    "print(arr_1D.reshape(3,3))"
   ]
  },
  {
   "cell_type": "markdown",
   "id": "86c6bede",
   "metadata": {},
   "source": [
    "Flattering"
   ]
  },
  {
   "cell_type": "code",
   "execution_count": 6,
   "id": "9bb4d440",
   "metadata": {},
   "outputs": [],
   "source": [
    "barun = np.array([[1,2,3,4],[5,6,7,8]])"
   ]
  },
  {
   "cell_type": "code",
   "execution_count": 9,
   "id": "44054b2e",
   "metadata": {},
   "outputs": [
    {
     "name": "stdout",
     "output_type": "stream",
     "text": [
      "[1 2 3 4 5 6 7 8]\n",
      "[1 2 3 4 5 6 7 8]\n"
     ]
    }
   ],
   "source": [
    "print(barun.ravel())\n",
    "print(barun.flatten())"
   ]
  }
 ],
 "metadata": {
  "kernelspec": {
   "display_name": "Python 3",
   "language": "python",
   "name": "python3"
  },
  "language_info": {
   "codemirror_mode": {
    "name": "ipython",
    "version": 3
   },
   "file_extension": ".py",
   "mimetype": "text/x-python",
   "name": "python",
   "nbconvert_exporter": "python",
   "pygments_lexer": "ipython3",
   "version": "3.13.2"
  }
 },
 "nbformat": 4,
 "nbformat_minor": 5
}
